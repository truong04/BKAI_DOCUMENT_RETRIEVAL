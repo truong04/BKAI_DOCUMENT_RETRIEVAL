{
 "cells": [
  {
   "cell_type": "code",
   "execution_count": 1,
   "id": "0046b156",
   "metadata": {
    "_cell_guid": "b1076dfc-b9ad-4769-8c92-a6c4dae69d19",
    "_uuid": "8f2839f25d086af736a60e9eeb907d3b93b6e0e5",
    "execution": {
     "iopub.execute_input": "2025-02-11T07:31:58.153299Z",
     "iopub.status.busy": "2025-02-11T07:31:58.152839Z",
     "iopub.status.idle": "2025-02-11T07:31:59.317835Z",
     "shell.execute_reply": "2025-02-11T07:31:59.316525Z"
    },
    "papermill": {
     "duration": 1.171182,
     "end_time": "2025-02-11T07:31:59.319960",
     "exception": false,
     "start_time": "2025-02-11T07:31:58.148778",
     "status": "completed"
    },
    "tags": []
   },
   "outputs": [],
   "source": [
    "import pandas as pd"
   ]
  },
  {
   "cell_type": "code",
   "execution_count": 2,
   "id": "e6867163",
   "metadata": {
    "collapsed": true,
    "execution": {
     "iopub.execute_input": "2025-02-11T07:31:59.326801Z",
     "iopub.status.busy": "2025-02-11T07:31:59.326231Z",
     "iopub.status.idle": "2025-02-11T07:32:06.300315Z",
     "shell.execute_reply": "2025-02-11T07:32:06.299071Z"
    },
    "jupyter": {
     "outputs_hidden": true
    },
    "papermill": {
     "duration": 6.979712,
     "end_time": "2025-02-11T07:32:06.302327",
     "exception": false,
     "start_time": "2025-02-11T07:31:59.322615",
     "status": "completed"
    },
    "tags": []
   },
   "outputs": [
    {
     "data": {
      "text/html": [
       "<div>\n",
       "<style scoped>\n",
       "    .dataframe tbody tr th:only-of-type {\n",
       "        vertical-align: middle;\n",
       "    }\n",
       "\n",
       "    .dataframe tbody tr th {\n",
       "        vertical-align: top;\n",
       "    }\n",
       "\n",
       "    .dataframe thead th {\n",
       "        text-align: right;\n",
       "    }\n",
       "</style>\n",
       "<table border=\"1\" class=\"dataframe\">\n",
       "  <thead>\n",
       "    <tr style=\"text-align: right;\">\n",
       "      <th></th>\n",
       "      <th>question</th>\n",
       "      <th>context</th>\n",
       "      <th>cid</th>\n",
       "      <th>qid</th>\n",
       "    </tr>\n",
       "  </thead>\n",
       "  <tbody>\n",
       "    <tr>\n",
       "      <th>0</th>\n",
       "      <td>Người học ngành quản lý khai thác công trình t...</td>\n",
       "      <td>['Khả năng học tập, nâng cao trình độ\\n- Khối ...</td>\n",
       "      <td>[62492]</td>\n",
       "      <td>161615</td>\n",
       "    </tr>\n",
       "    <tr>\n",
       "      <th>1</th>\n",
       "      <td>Nội dung lồng ghép vấn đề bình đẳng giới trong...</td>\n",
       "      <td>['Nội dung lồng ghép vấn đề bình đẳng giới tro...</td>\n",
       "      <td>[151154]</td>\n",
       "      <td>80037</td>\n",
       "    </tr>\n",
       "    <tr>\n",
       "      <th>2</th>\n",
       "      <td>Sản phẩm phần mềm có được hưởng ưu đãi về thời...</td>\n",
       "      <td>['\"Điều 20. Ưu đãi về thời gian miễn thuế, giả...</td>\n",
       "      <td>[75071]</td>\n",
       "      <td>124074</td>\n",
       "    </tr>\n",
       "    <tr>\n",
       "      <th>3</th>\n",
       "      <td>Điều kiện để giáo viên trong cơ sở giáo dục mầ...</td>\n",
       "      <td>['Điều kiện được hưởng\\nCán bộ quản lý, giáo v...</td>\n",
       "      <td>[225897]</td>\n",
       "      <td>146841</td>\n",
       "    </tr>\n",
       "    <tr>\n",
       "      <th>4</th>\n",
       "      <td>Nguyên tắc áp dụng phụ cấp ưu đãi nghề y tế th...</td>\n",
       "      <td>['Nguyên tắc áp dụng\\n1. Trường hợp công chức,...</td>\n",
       "      <td>[68365]</td>\n",
       "      <td>6176</td>\n",
       "    </tr>\n",
       "  </tbody>\n",
       "</table>\n",
       "</div>"
      ],
      "text/plain": [
       "                                            question  \\\n",
       "0  Người học ngành quản lý khai thác công trình t...   \n",
       "1  Nội dung lồng ghép vấn đề bình đẳng giới trong...   \n",
       "2  Sản phẩm phần mềm có được hưởng ưu đãi về thời...   \n",
       "3  Điều kiện để giáo viên trong cơ sở giáo dục mầ...   \n",
       "4  Nguyên tắc áp dụng phụ cấp ưu đãi nghề y tế th...   \n",
       "\n",
       "                                             context       cid     qid  \n",
       "0  ['Khả năng học tập, nâng cao trình độ\\n- Khối ...   [62492]  161615  \n",
       "1  ['Nội dung lồng ghép vấn đề bình đẳng giới tro...  [151154]   80037  \n",
       "2  ['\"Điều 20. Ưu đãi về thời gian miễn thuế, giả...   [75071]  124074  \n",
       "3  ['Điều kiện được hưởng\\nCán bộ quản lý, giáo v...  [225897]  146841  \n",
       "4  ['Nguyên tắc áp dụng\\n1. Trường hợp công chức,...   [68365]    6176  "
      ]
     },
     "execution_count": 2,
     "metadata": {},
     "output_type": "execute_result"
    }
   ],
   "source": [
    "data_train = pd.read_csv(\"/kaggle/input/train-csv/train (1).csv\")\n",
    "data_train.head()"
   ]
  },
  {
   "cell_type": "code",
   "execution_count": 3,
   "id": "b697f49d",
   "metadata": {
    "execution": {
     "iopub.execute_input": "2025-02-11T07:32:06.308534Z",
     "iopub.status.busy": "2025-02-11T07:32:06.308175Z",
     "iopub.status.idle": "2025-02-11T07:32:10.654924Z",
     "shell.execute_reply": "2025-02-11T07:32:10.653649Z"
    },
    "papermill": {
     "duration": 4.352231,
     "end_time": "2025-02-11T07:32:10.657132",
     "exception": false,
     "start_time": "2025-02-11T07:32:06.304901",
     "status": "completed"
    },
    "tags": []
   },
   "outputs": [],
   "source": [
    "sample_data = data_train.sample(n=10000, random_state=42)\n",
    "remaining_data = data_train.drop(sample_data.index)\n",
    "\n",
    "# Nếu cần lưu lại:\n",
    "sample_data.to_csv(\"test.csv\", index=False)\n",
    "remaining_data.to_csv(\"train.csv\", index=False)"
   ]
  },
  {
   "cell_type": "code",
   "execution_count": null,
   "id": "6ea456b6",
   "metadata": {
    "papermill": {
     "duration": 0.001995,
     "end_time": "2025-02-11T07:32:10.661667",
     "exception": false,
     "start_time": "2025-02-11T07:32:10.659672",
     "status": "completed"
    },
    "tags": []
   },
   "outputs": [],
   "source": []
  }
 ],
 "metadata": {
  "kaggle": {
   "accelerator": "none",
   "dataSources": [
    {
     "datasetId": 6445930,
     "sourceId": 10402642,
     "sourceType": "datasetVersion"
    }
   ],
   "dockerImageVersionId": 30886,
   "isGpuEnabled": false,
   "isInternetEnabled": true,
   "language": "python",
   "sourceType": "notebook"
  },
  "kernelspec": {
   "display_name": "Python 3",
   "language": "python",
   "name": "python3"
  },
  "language_info": {
   "codemirror_mode": {
    "name": "ipython",
    "version": 3
   },
   "file_extension": ".py",
   "mimetype": "text/x-python",
   "name": "python",
   "nbconvert_exporter": "python",
   "pygments_lexer": "ipython3",
   "version": "3.10.12"
  },
  "papermill": {
   "default_parameters": {},
   "duration": 16.225819,
   "end_time": "2025-02-11T07:32:11.285027",
   "environment_variables": {},
   "exception": null,
   "input_path": "__notebook__.ipynb",
   "output_path": "__notebook__.ipynb",
   "parameters": {},
   "start_time": "2025-02-11T07:31:55.059208",
   "version": "2.6.0"
  }
 },
 "nbformat": 4,
 "nbformat_minor": 5
}
