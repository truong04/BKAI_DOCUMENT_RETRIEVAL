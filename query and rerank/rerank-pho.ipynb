{
 "cells": [
  {
   "cell_type": "code",
   "execution_count": 1,
   "metadata": {
    "collapsed": true,
    "execution": {
     "iopub.execute_input": "2025-02-13T04:26:42.203324Z",
     "iopub.status.busy": "2025-02-13T04:26:42.202988Z",
     "iopub.status.idle": "2025-02-13T04:26:46.323340Z",
     "shell.execute_reply": "2025-02-13T04:26:46.322317Z",
     "shell.execute_reply.started": "2025-02-13T04:26:42.203283Z"
    },
    "id": "7D4Jl8HHZY7k",
    "jupyter": {
     "outputs_hidden": true
    },
    "outputId": "a08c6fde-64a9-4da0-f236-23eda2624dce",
    "trusted": true
   },
   "outputs": [
    {
     "name": "stdout",
     "output_type": "stream",
     "text": [
      "Requirement already satisfied: sentence_transformers in /usr/local/lib/python3.10/dist-packages (3.3.1)\n",
      "Requirement already satisfied: transformers<5.0.0,>=4.41.0 in /usr/local/lib/python3.10/dist-packages (from sentence_transformers) (4.47.0)\n",
      "Requirement already satisfied: tqdm in /usr/local/lib/python3.10/dist-packages (from sentence_transformers) (4.67.1)\n",
      "Requirement already satisfied: torch>=1.11.0 in /usr/local/lib/python3.10/dist-packages (from sentence_transformers) (2.5.1+cu121)\n",
      "Requirement already satisfied: scikit-learn in /usr/local/lib/python3.10/dist-packages (from sentence_transformers) (1.2.2)\n",
      "Requirement already satisfied: scipy in /usr/local/lib/python3.10/dist-packages (from sentence_transformers) (1.13.1)\n",
      "Requirement already satisfied: huggingface-hub>=0.20.0 in /usr/local/lib/python3.10/dist-packages (from sentence_transformers) (0.27.0)\n",
      "Requirement already satisfied: Pillow in /usr/local/lib/python3.10/dist-packages (from sentence_transformers) (11.0.0)\n",
      "Requirement already satisfied: filelock in /usr/local/lib/python3.10/dist-packages (from huggingface-hub>=0.20.0->sentence_transformers) (3.16.1)\n",
      "Requirement already satisfied: fsspec>=2023.5.0 in /usr/local/lib/python3.10/dist-packages (from huggingface-hub>=0.20.0->sentence_transformers) (2024.9.0)\n",
      "Requirement already satisfied: packaging>=20.9 in /usr/local/lib/python3.10/dist-packages (from huggingface-hub>=0.20.0->sentence_transformers) (24.2)\n",
      "Requirement already satisfied: pyyaml>=5.1 in /usr/local/lib/python3.10/dist-packages (from huggingface-hub>=0.20.0->sentence_transformers) (6.0.2)\n",
      "Requirement already satisfied: requests in /usr/local/lib/python3.10/dist-packages (from huggingface-hub>=0.20.0->sentence_transformers) (2.32.3)\n",
      "Requirement already satisfied: typing-extensions>=3.7.4.3 in /usr/local/lib/python3.10/dist-packages (from huggingface-hub>=0.20.0->sentence_transformers) (4.12.2)\n",
      "Requirement already satisfied: networkx in /usr/local/lib/python3.10/dist-packages (from torch>=1.11.0->sentence_transformers) (3.4.2)\n",
      "Requirement already satisfied: jinja2 in /usr/local/lib/python3.10/dist-packages (from torch>=1.11.0->sentence_transformers) (3.1.4)\n",
      "Requirement already satisfied: sympy==1.13.1 in /usr/local/lib/python3.10/dist-packages (from torch>=1.11.0->sentence_transformers) (1.13.1)\n",
      "Requirement already satisfied: mpmath<1.4,>=1.1.0 in /usr/local/lib/python3.10/dist-packages (from sympy==1.13.1->torch>=1.11.0->sentence_transformers) (1.3.0)\n",
      "Requirement already satisfied: numpy>=1.17 in /usr/local/lib/python3.10/dist-packages (from transformers<5.0.0,>=4.41.0->sentence_transformers) (1.26.4)\n",
      "Requirement already satisfied: regex!=2019.12.17 in /usr/local/lib/python3.10/dist-packages (from transformers<5.0.0,>=4.41.0->sentence_transformers) (2024.11.6)\n",
      "Requirement already satisfied: tokenizers<0.22,>=0.21 in /usr/local/lib/python3.10/dist-packages (from transformers<5.0.0,>=4.41.0->sentence_transformers) (0.21.0)\n",
      "Requirement already satisfied: safetensors>=0.4.1 in /usr/local/lib/python3.10/dist-packages (from transformers<5.0.0,>=4.41.0->sentence_transformers) (0.4.5)\n",
      "Requirement already satisfied: joblib>=1.1.1 in /usr/local/lib/python3.10/dist-packages (from scikit-learn->sentence_transformers) (1.4.2)\n",
      "Requirement already satisfied: threadpoolctl>=2.0.0 in /usr/local/lib/python3.10/dist-packages (from scikit-learn->sentence_transformers) (3.5.0)\n",
      "Requirement already satisfied: mkl_fft in /usr/local/lib/python3.10/dist-packages (from numpy>=1.17->transformers<5.0.0,>=4.41.0->sentence_transformers) (1.3.8)\n",
      "Requirement already satisfied: mkl_random in /usr/local/lib/python3.10/dist-packages (from numpy>=1.17->transformers<5.0.0,>=4.41.0->sentence_transformers) (1.2.4)\n",
      "Requirement already satisfied: mkl_umath in /usr/local/lib/python3.10/dist-packages (from numpy>=1.17->transformers<5.0.0,>=4.41.0->sentence_transformers) (0.1.1)\n",
      "Requirement already satisfied: mkl in /usr/local/lib/python3.10/dist-packages (from numpy>=1.17->transformers<5.0.0,>=4.41.0->sentence_transformers) (2025.0.1)\n",
      "Requirement already satisfied: tbb4py in /usr/local/lib/python3.10/dist-packages (from numpy>=1.17->transformers<5.0.0,>=4.41.0->sentence_transformers) (2022.0.0)\n",
      "Requirement already satisfied: mkl-service in /usr/local/lib/python3.10/dist-packages (from numpy>=1.17->transformers<5.0.0,>=4.41.0->sentence_transformers) (2.4.1)\n",
      "Requirement already satisfied: MarkupSafe>=2.0 in /usr/local/lib/python3.10/dist-packages (from jinja2->torch>=1.11.0->sentence_transformers) (3.0.2)\n",
      "Requirement already satisfied: charset-normalizer<4,>=2 in /usr/local/lib/python3.10/dist-packages (from requests->huggingface-hub>=0.20.0->sentence_transformers) (3.4.0)\n",
      "Requirement already satisfied: idna<4,>=2.5 in /usr/local/lib/python3.10/dist-packages (from requests->huggingface-hub>=0.20.0->sentence_transformers) (3.10)\n",
      "Requirement already satisfied: urllib3<3,>=1.21.1 in /usr/local/lib/python3.10/dist-packages (from requests->huggingface-hub>=0.20.0->sentence_transformers) (2.2.3)\n",
      "Requirement already satisfied: certifi>=2017.4.17 in /usr/local/lib/python3.10/dist-packages (from requests->huggingface-hub>=0.20.0->sentence_transformers) (2024.12.14)\n",
      "Requirement already satisfied: intel-openmp>=2024 in /usr/local/lib/python3.10/dist-packages (from mkl->numpy>=1.17->transformers<5.0.0,>=4.41.0->sentence_transformers) (2024.2.0)\n",
      "Requirement already satisfied: tbb==2022.* in /usr/local/lib/python3.10/dist-packages (from mkl->numpy>=1.17->transformers<5.0.0,>=4.41.0->sentence_transformers) (2022.0.0)\n",
      "Requirement already satisfied: tcmlib==1.* in /usr/local/lib/python3.10/dist-packages (from tbb==2022.*->mkl->numpy>=1.17->transformers<5.0.0,>=4.41.0->sentence_transformers) (1.2.0)\n",
      "Requirement already satisfied: intel-cmplr-lib-rt in /usr/local/lib/python3.10/dist-packages (from mkl_umath->numpy>=1.17->transformers<5.0.0,>=4.41.0->sentence_transformers) (2024.2.0)\n",
      "Requirement already satisfied: intel-cmplr-lib-ur==2024.2.0 in /usr/local/lib/python3.10/dist-packages (from intel-openmp>=2024->mkl->numpy>=1.17->transformers<5.0.0,>=4.41.0->sentence_transformers) (2024.2.0)\n",
      "Note: you may need to restart the kernel to use updated packages.\n"
     ]
    }
   ],
   "source": [
    "pip install sentence_transformers"
   ]
  },
  {
   "cell_type": "code",
   "execution_count": 1,
   "metadata": {
    "execution": {
     "iopub.execute_input": "2025-02-14T08:15:16.984686Z",
     "iopub.status.busy": "2025-02-14T08:15:16.984406Z",
     "iopub.status.idle": "2025-02-14T08:15:21.341227Z",
     "shell.execute_reply": "2025-02-14T08:15:21.340241Z",
     "shell.execute_reply.started": "2025-02-14T08:15:16.984654Z"
    },
    "trusted": true
   },
   "outputs": [
    {
     "name": "stdout",
     "output_type": "stream",
     "text": [
      "Downloading...\n",
      "From: https://drive.google.com/uc?id=1lLUZ3JDLWvWjJbI7zK_MqOh5zZc131d1\n",
      "To: /kaggle/working/query_rand.txt\n",
      "100%|███████████████████████████████████████| 3.37M/3.37M [00:00<00:00, 247MB/s]\n"
     ]
    }
   ],
   "source": [
    "!gdown --fuzzy https://drive.google.com/file/d/1lLUZ3JDLWvWjJbI7zK_MqOh5zZc131d1/view?usp=drive_link"
   ]
  },
  {
   "cell_type": "code",
   "execution_count": 2,
   "metadata": {
    "collapsed": true,
    "execution": {
     "iopub.execute_input": "2025-02-14T08:15:21.342326Z",
     "iopub.status.busy": "2025-02-14T08:15:21.342090Z",
     "iopub.status.idle": "2025-02-14T08:15:38.985936Z",
     "shell.execute_reply": "2025-02-14T08:15:38.985100Z",
     "shell.execute_reply.started": "2025-02-14T08:15:21.342306Z"
    },
    "id": "4obLc_u0aFY2",
    "jupyter": {
     "outputs_hidden": true
    },
    "outputId": "b2939fa4-aadb-4481-aea3-38b2c18b6d5f",
    "trusted": true
   },
   "outputs": [
    {
     "name": "stdout",
     "output_type": "stream",
     "text": [
      "/usr/local/lib/python3.10/dist-packages/gdown/__main__.py:140: FutureWarning: Option `--id` was deprecated in version 4.3.1 and will be removed in 5.0. You don't need to pass it anymore to use a file ID.\n",
      "  warnings.warn(\n",
      "Downloading...\n",
      "From (original): https://drive.google.com/uc?id=1vTo1lFfPn8QtgZTebczBBFFV--TyvAp9\n",
      "From (redirected): https://drive.google.com/uc?id=1vTo1lFfPn8QtgZTebczBBFFV--TyvAp9&confirm=t&uuid=d7747350-936a-4e35-a4a4-f95b2cc340c7\n",
      "To: /kaggle/working/corpus.csv\n",
      "100%|█████████████████████████████████████████| 381M/381M [00:03<00:00, 125MB/s]\n",
      "/usr/local/lib/python3.10/dist-packages/gdown/__main__.py:140: FutureWarning: Option `--id` was deprecated in version 4.3.1 and will be removed in 5.0. You don't need to pass it anymore to use a file ID.\n",
      "  warnings.warn(\n",
      "Downloading...\n",
      "From (original): https://drive.google.com/uc?id=1STFX5W2vwJVMWeYJ24To95f0sX8Erf_Y\n",
      "From (redirected): https://drive.google.com/uc?id=1STFX5W2vwJVMWeYJ24To95f0sX8Erf_Y&confirm=t&uuid=00fccca0-292e-4bce-9e03-639721622381\n",
      "To: /kaggle/working/train.csv\n",
      "100%|████████████████████████████████████████| 185M/185M [00:01<00:00, 99.1MB/s]\n",
      "/usr/local/lib/python3.10/dist-packages/gdown/__main__.py:140: FutureWarning: Option `--id` was deprecated in version 4.3.1 and will be removed in 5.0. You don't need to pass it anymore to use a file ID.\n",
      "  warnings.warn(\n",
      "Downloading...\n",
      "From: https://drive.google.com/uc?id=1dT2uASmQv43nurIucULZG-cJsKDLOViB\n",
      "To: /kaggle/working/result.txt\n",
      "100%|███████████████████████████████████████| 2.58M/2.58M [00:00<00:00, 161MB/s]\n"
     ]
    }
   ],
   "source": [
    "!gdown --id 1vTo1lFfPn8QtgZTebczBBFFV--TyvAp9 --output corpus.csv\n",
    "!gdown --id 1STFX5W2vwJVMWeYJ24To95f0sX8Erf_Y --output train.csv\n",
    "!gdown --id 1dT2uASmQv43nurIucULZG-cJsKDLOViB --output result.txt"
   ]
  },
  {
   "cell_type": "code",
   "execution_count": 3,
   "metadata": {
    "execution": {
     "iopub.execute_input": "2025-02-14T08:15:38.987267Z",
     "iopub.status.busy": "2025-02-14T08:15:38.986943Z",
     "iopub.status.idle": "2025-02-14T08:15:54.121368Z",
     "shell.execute_reply": "2025-02-14T08:15:54.120498Z",
     "shell.execute_reply.started": "2025-02-14T08:15:38.987243Z"
    },
    "trusted": true
   },
   "outputs": [
    {
     "name": "stdout",
     "output_type": "stream",
     "text": [
      "/usr/local/lib/python3.10/dist-packages/gdown/__main__.py:140: FutureWarning: Option `--id` was deprecated in version 4.3.1 and will be removed in 5.0. You don't need to pass it anymore to use a file ID.\n",
      "  warnings.warn(\n",
      "Downloading...\n",
      "From (original): https://drive.google.com/uc?id=1vzSXAYfVwy7hvQ8inRZEmPIGCswFABIp\n",
      "From (redirected): https://drive.google.com/uc?id=1vzSXAYfVwy7hvQ8inRZEmPIGCswFABIp&confirm=t&uuid=33508121-c5c9-49a6-a9d3-34ae1ae5f2d1\n",
      "To: /kaggle/working/model.zip\n",
      "100%|████████████████████████████████████████| 503M/503M [00:05<00:00, 93.4MB/s]\n",
      "Archive:  model.zip\n",
      "  inflating: PhoRanker_3_rand_2/CEBinaryClassificationEvaluator_Quora-dev_results.csv  \n",
      "  inflating: PhoRanker_3_rand_2/config.json  \n",
      "  inflating: PhoRanker_3_rand_2/model.safetensors  \n",
      "  inflating: PhoRanker_3_rand_2/tokenizer_config.json  \n",
      "  inflating: PhoRanker_3_rand_2/special_tokens_map.json  \n",
      "  inflating: PhoRanker_3_rand_2/added_tokens.json  \n",
      "  inflating: PhoRanker_3_rand_2/vocab.txt  \n",
      "  inflating: PhoRanker_3_rand_2/bpe.codes  \n"
     ]
    }
   ],
   "source": [
    "!gdown --id 1vzSXAYfVwy7hvQ8inRZEmPIGCswFABIp --output model.zip #pho_10_fix_text\n",
    "!unzip model.zip"
   ]
  },
  {
   "cell_type": "code",
   "execution_count": null,
   "metadata": {
    "execution": {
     "iopub.execute_input": "2025-02-14T08:15:54.122559Z",
     "iopub.status.busy": "2025-02-14T08:15:54.122305Z",
     "iopub.status.idle": "2025-02-14T08:16:20.070132Z",
     "shell.execute_reply": "2025-02-14T08:16:20.069035Z",
     "shell.execute_reply.started": "2025-02-14T08:15:54.122526Z"
    },
    "trusted": true
   },
   "outputs": [
    {
     "name": "stdout",
     "output_type": "stream",
     "text": [
      "/kaggle/working\n",
      "/usr/local/lib/python3.10/dist-packages/gdown/__main__.py:140: FutureWarning: Option `--id` was deprecated in version 4.3.1 and will be removed in 5.0. You don't need to pass it anymore to use a file ID.\n",
      "  warnings.warn(\n",
      "Downloading...\n",
      "From (original): https://drive.google.com/uc?id=1STFX5W2vwJVMWeYJ24To95f0sX8Erf_Y\n",
      "From (redirected): https://drive.google.com/uc?id=1STFX5W2vwJVMWeYJ24To95f0sX8Erf_Y&confirm=t&uuid=0a3a098a-182e-4e95-9851-404371ede78c\n",
      "To: /kaggle/working/trainnn.csv\n",
      "100%|█████████████████████████████████████████| 185M/185M [00:01<00:00, 107MB/s]\n"
     ]
    }
   ],
   "source": [
    "# %cd /kaggle/working/\n",
    "# import pandas as pd\n",
    "# !gdown --id 1STFX5W2vwJVMWeYJ24To95f0sX8Erf_Y --output trainnn.csv\n",
    "\n",
    "# data_train = pd.read_csv(\"/kaggle/working/trainnn.csv\")\n",
    "# data = pd.read_csv(\"/kaggle/working/train.csv\")\n",
    "corpus = pd.read_csv(\"/kaggle/input/fix-tokenize-corpus/corpus.csv\") #corpus được tokenize bởi VnCoreNLP\n",
    "\n",
    "# queries = data.tail(9456)"
   ]
  },
  {
   "cell_type": "code",
   "execution_count": 5,
   "metadata": {
    "execution": {
     "iopub.execute_input": "2025-02-14T08:16:20.071442Z",
     "iopub.status.busy": "2025-02-14T08:16:20.071185Z",
     "iopub.status.idle": "2025-02-14T08:16:35.157264Z",
     "shell.execute_reply": "2025-02-14T08:16:35.156194Z",
     "shell.execute_reply.started": "2025-02-14T08:16:20.071419Z"
    },
    "id": "Y75Q7Vk0bqXG",
    "outputId": "29183fe2-1a99-40fc-c88f-e42a303e19ed",
    "trusted": true
   },
   "outputs": [
    {
     "name": "stdout",
     "output_type": "stream",
     "text": [
      "Cloning into 'VnCoreNLP'...\n",
      "remote: Enumerating objects: 259, done.\u001b[K\n",
      "remote: Counting objects: 100% (47/47), done.\u001b[K\n",
      "remote: Compressing objects: 100% (32/32), done.\u001b[K\n",
      "remote: Total 259 (delta 17), reused 33 (delta 11), pack-reused 212 (from 1)\u001b[K\n",
      "Receiving objects: 100% (259/259), 237.79 MiB | 49.60 MiB/s, done.\n",
      "Resolving deltas: 100% (93/93), done.\n",
      "Collecting py_vncorenlp\n",
      "  Downloading py_vncorenlp-0.1.4.tar.gz (3.9 kB)\n",
      "  Preparing metadata (setup.py) ... \u001b[?25l\u001b[?25hdone\n",
      "Collecting pyjnius (from py_vncorenlp)\n",
      "  Downloading pyjnius-1.6.1-cp310-cp310-manylinux_2_17_x86_64.manylinux2014_x86_64.whl.metadata (10 kB)\n",
      "Downloading pyjnius-1.6.1-cp310-cp310-manylinux_2_17_x86_64.manylinux2014_x86_64.whl (1.5 MB)\n",
      "\u001b[2K   \u001b[90m━━━━━━━━━━━━━━━━━━━━━━━━━━━━━━━━━━━━━━━━\u001b[0m \u001b[32m1.5/1.5 MB\u001b[0m \u001b[31m8.7 MB/s\u001b[0m eta \u001b[36m0:00:00\u001b[0ma \u001b[36m0:00:01\u001b[0m\n",
      "\u001b[?25hBuilding wheels for collected packages: py_vncorenlp\n",
      "  Building wheel for py_vncorenlp (setup.py) ... \u001b[?25l\u001b[?25hdone\n",
      "  Created wheel for py_vncorenlp: filename=py_vncorenlp-0.1.4-py3-none-any.whl size=4305 sha256=5533c33db0d70b8367f3822198789dcabc39cbc6457d551d3e3bfce03001bfbf\n",
      "  Stored in directory: /root/.cache/pip/wheels/d5/d9/bf/62632cdb007c702a0664091e92a0bb1f18a2fcecbe962d9827\n",
      "Successfully built py_vncorenlp\n",
      "Installing collected packages: pyjnius, py_vncorenlp\n",
      "Successfully installed py_vncorenlp-0.1.4 pyjnius-1.6.1\n",
      "VnCoreNLP model folder /kaggle/working/VnCoreNLP already exists! Please load VnCoreNLP from this folder!\n"
     ]
    }
   ],
   "source": [
    "!git clone https://github.com/vncorenlp/VnCoreNLP.git\n",
    "!pip install py_vncorenlp\n",
    "import py_vncorenlp\n",
    "py_vncorenlp.download_model(save_dir='/kaggle/working/VnCoreNLP')\n",
    "rdrsegmenter = py_vncorenlp.VnCoreNLP(annotators=[\"wseg\"], save_dir='/kaggle/working/VnCoreNLP')"
   ]
  },
  {
   "cell_type": "code",
   "execution_count": 6,
   "metadata": {
    "execution": {
     "iopub.execute_input": "2025-02-14T08:16:35.160351Z",
     "iopub.status.busy": "2025-02-14T08:16:35.159679Z",
     "iopub.status.idle": "2025-02-14T08:16:35.284716Z",
     "shell.execute_reply": "2025-02-14T08:16:35.283772Z",
     "shell.execute_reply.started": "2025-02-14T08:16:35.160322Z"
    },
    "id": "2_mkCWDbgV7-",
    "trusted": true
   },
   "outputs": [],
   "source": [
    "file_path = \"/kaggle/working/query_rand.txt\"\n",
    "qid_cid_mapping = {}\n",
    "\n",
    "with open(file_path, 'r') as file:\n",
    "    for line in file:\n",
    "        line = line.strip()\n",
    "        numbers = line.split()\n",
    "        qid = int(numbers[0])\n",
    "        cids = list(map(int, numbers[1:]))\n",
    "        qid_cid_mapping[qid] = cids"
   ]
  },
  {
   "cell_type": "code",
   "execution_count": 7,
   "metadata": {
    "execution": {
     "iopub.execute_input": "2025-02-14T08:16:35.286029Z",
     "iopub.status.busy": "2025-02-14T08:16:35.285783Z",
     "iopub.status.idle": "2025-02-14T08:16:39.613778Z",
     "shell.execute_reply": "2025-02-14T08:16:39.613087Z",
     "shell.execute_reply.started": "2025-02-14T08:16:35.285988Z"
    },
    "trusted": true
   },
   "outputs": [],
   "source": [
    "import ast\n",
    "from transformers import logging\n",
    "logging.set_verbosity_error()  # Tắt toàn bộ log lỗi và cảnh báo từ Transformers"
   ]
  },
  {
   "cell_type": "code",
   "execution_count": 8,
   "metadata": {
    "execution": {
     "iopub.execute_input": "2025-02-14T08:17:21.648847Z",
     "iopub.status.busy": "2025-02-14T08:17:21.648484Z",
     "iopub.status.idle": "2025-02-14T08:17:40.690861Z",
     "shell.execute_reply": "2025-02-14T08:17:40.689907Z",
     "shell.execute_reply.started": "2025-02-14T08:17:21.648804Z"
    },
    "id": "LjJTOQWjZPqK",
    "trusted": true
   },
   "outputs": [
    {
     "name": "stdout",
     "output_type": "stream",
     "text": [
      "/kaggle/working\n"
     ]
    }
   ],
   "source": [
    "%cd /kaggle/working/\n",
    "from sentence_transformers import CrossEncoder\n",
    "model_encode = CrossEncoder(\"/kaggle/working/PhoRanker_3_rand_2\", max_length=256, num_labels=1)"
   ]
  },
  {
   "cell_type": "code",
   "execution_count": 9,
   "metadata": {
    "execution": {
     "iopub.execute_input": "2025-02-14T08:17:40.692700Z",
     "iopub.status.busy": "2025-02-14T08:17:40.692107Z",
     "iopub.status.idle": "2025-02-14T08:17:40.696655Z",
     "shell.execute_reply": "2025-02-14T08:17:40.695653Z",
     "shell.execute_reply.started": "2025-02-14T08:17:40.692663Z"
    },
    "trusted": true
   },
   "outputs": [],
   "source": [
    "import numpy as np\n",
    "np.set_printoptions(precision=9, suppress=True)"
   ]
  },
  {
   "cell_type": "code",
   "execution_count": 10,
   "metadata": {
    "execution": {
     "iopub.execute_input": "2025-02-14T08:17:40.698383Z",
     "iopub.status.busy": "2025-02-14T08:17:40.698106Z",
     "iopub.status.idle": "2025-02-14T08:17:41.343732Z",
     "shell.execute_reply": "2025-02-14T08:17:41.342788Z",
     "shell.execute_reply.started": "2025-02-14T08:17:40.698356Z"
    },
    "trusted": true
   },
   "outputs": [
    {
     "data": {
      "text/html": [
       "<div>\n",
       "<style scoped>\n",
       "    .dataframe tbody tr th:only-of-type {\n",
       "        vertical-align: middle;\n",
       "    }\n",
       "\n",
       "    .dataframe tbody tr th {\n",
       "        vertical-align: top;\n",
       "    }\n",
       "\n",
       "    .dataframe thead th {\n",
       "        text-align: right;\n",
       "    }\n",
       "</style>\n",
       "<table border=\"1\" class=\"dataframe\">\n",
       "  <thead>\n",
       "    <tr style=\"text-align: right;\">\n",
       "      <th></th>\n",
       "      <th>question</th>\n",
       "      <th>context</th>\n",
       "      <th>cid</th>\n",
       "      <th>qid</th>\n",
       "    </tr>\n",
       "  </thead>\n",
       "  <tbody>\n",
       "    <tr>\n",
       "      <th>0</th>\n",
       "      <td>Phó Tổng Giám đốc Ngân hàng Chính sách xã hội ...</td>\n",
       "      <td>['Áp dụng chế độ tiền lương và phụ cấp quy địn...</td>\n",
       "      <td>[140864]</td>\n",
       "      <td>70867</td>\n",
       "    </tr>\n",
       "    <tr>\n",
       "      <th>1</th>\n",
       "      <td>Ai có thẩm quyền quyết định thành lập Hội đồng...</td>\n",
       "      <td>['Thành lập Hội đồng\\n1. Bộ trưởng Bộ Y tế ra ...</td>\n",
       "      <td>[62339]</td>\n",
       "      <td>813</td>\n",
       "    </tr>\n",
       "    <tr>\n",
       "      <th>2</th>\n",
       "      <td>Thời hiệu xử phạt đối với nhà xuất bản thực hi...</td>\n",
       "      <td>['Mức phạt tiền và thẩm quyền xử phạt\\n...\\n4....</td>\n",
       "      <td>[63171]</td>\n",
       "      <td>40392</td>\n",
       "    </tr>\n",
       "    <tr>\n",
       "      <th>3</th>\n",
       "      <td>Việc ký kết, thực hiện thỏa thuận quốc tế nhân...</td>\n",
       "      <td>['Báo cáo tình hình ký kết và thực hiện thỏa t...</td>\n",
       "      <td>[157761]</td>\n",
       "      <td>85946</td>\n",
       "    </tr>\n",
       "    <tr>\n",
       "      <th>4</th>\n",
       "      <td>Đề án sử dụng tài sản công tại đơn vị sự nghiệ...</td>\n",
       "      <td>['\"Điều 44. Đề án sử dụng tài sản công tại đơn...</td>\n",
       "      <td>[95397]</td>\n",
       "      <td>55607</td>\n",
       "    </tr>\n",
       "  </tbody>\n",
       "</table>\n",
       "</div>"
      ],
      "text/plain": [
       "                                            question  \\\n",
       "0  Phó Tổng Giám đốc Ngân hàng Chính sách xã hội ...   \n",
       "1  Ai có thẩm quyền quyết định thành lập Hội đồng...   \n",
       "2  Thời hiệu xử phạt đối với nhà xuất bản thực hi...   \n",
       "3  Việc ký kết, thực hiện thỏa thuận quốc tế nhân...   \n",
       "4  Đề án sử dụng tài sản công tại đơn vị sự nghiệ...   \n",
       "\n",
       "                                             context       cid    qid  \n",
       "0  ['Áp dụng chế độ tiền lương và phụ cấp quy địn...  [140864]  70867  \n",
       "1  ['Thành lập Hội đồng\\n1. Bộ trưởng Bộ Y tế ra ...   [62339]    813  \n",
       "2  ['Mức phạt tiền và thẩm quyền xử phạt\\n...\\n4....   [63171]  40392  \n",
       "3  ['Báo cáo tình hình ký kết và thực hiện thỏa t...  [157761]  85946  \n",
       "4  ['\"Điều 44. Đề án sử dụng tài sản công tại đơn...   [95397]  55607  "
      ]
     },
     "execution_count": 10,
     "metadata": {},
     "output_type": "execute_result"
    }
   ],
   "source": [
    "queries = pd.read_csv(\"/kaggle/input/split-data/test.csv\")\n",
    "queries.head()"
   ]
  },
  {
   "cell_type": "code",
   "execution_count": 15,
   "metadata": {
    "execution": {
     "iopub.execute_input": "2025-02-14T08:21:23.962507Z",
     "iopub.status.busy": "2025-02-14T08:21:23.962194Z",
     "iopub.status.idle": "2025-02-14T09:34:13.822477Z",
     "shell.execute_reply": "2025-02-14T09:34:13.821584Z",
     "shell.execute_reply.started": "2025-02-14T08:21:23.962483Z"
    },
    "trusted": true
   },
   "outputs": [
    {
     "name": "stdout",
     "output_type": "stream",
     "text": [
      "/kaggle/working\n",
      "start\n"
     ]
    },
    {
     "name": "stderr",
     "output_type": "stream",
     "text": [
      "Processing queries: 100%|██████████| 10000/10000 [1:12:49<00:00,  2.29it/s]\n"
     ]
    }
   ],
   "source": [
    "%cd /kaggle/working/\n",
    "output_file = 'rerank_rand_9.txt'\n",
    "from tqdm import tqdm\n",
    "i = 0\n",
    "# Mở file ở chế độ append\n",
    "\n",
    "print(\"start\")\n",
    "with open(output_file, 'w', encoding='utf-8') as f:\n",
    "    for qid, cids in tqdm(qid_cid_mapping.items(), desc=\"Processing queries\"):\n",
    "        query = queries[queries[\"qid\"] == qid]['question'].values[0]\n",
    "        lst_context = []\n",
    "        context_scores = []\n",
    "        tokenized_query = \" \".join(rdrsegmenter.word_segment(query))\n",
    "        for cid in cids:\n",
    "            context = corpus.loc[corpus['cid'] == cid]['text'].values[0]\n",
    "            context = context.strip('[]\\'\\\"').replace('\\\\n', '').strip('\"')\n",
    "            # if cid == 63171:\n",
    "            #     TT = [tokenized_query , corpus.loc[corpus['cid'] == 63171]['text'].values[0].strip(\"[]\")]\n",
    "            #     c = model_encode.predict(TT, show_progress_bar = False)\n",
    "            #     print(c)\n",
    "            #     i+=1\n",
    "            #     break\n",
    "\n",
    "            lst_context.append(context.strip('\"'))\n",
    "\n",
    "        tokenized_pairs = [[tokenized_query, sent] for sent in lst_context]\n",
    "        scores = model_encode.predict(tokenized_pairs, show_progress_bar = False)\n",
    "        cid_scores = list(zip(cids, scores))\n",
    "        ranked_results = sorted(cid_scores, key=lambda x: x[1], reverse=True)\n",
    "        ranked_cids = [cid for cid, _ in ranked_results]\n",
    "      \n",
    "        result_line = f\"{qid} {' '.join(map(str, ranked_cids))}\\n\"\n",
    "        f.write(result_line)\n",
    "        f.flush()  "
   ]
  },
  {
   "cell_type": "code",
   "execution_count": null,
   "metadata": {
    "trusted": true
   },
   "outputs": [],
   "source": []
  },
  {
   "cell_type": "code",
   "execution_count": null,
   "metadata": {
    "trusted": true
   },
   "outputs": [],
   "source": []
  }
 ],
 "metadata": {
  "colab": {
   "provenance": []
  },
  "kaggle": {
   "accelerator": "gpu",
   "dataSources": [
    {
     "datasetId": 6578449,
     "sourceId": 10624800,
     "sourceType": "datasetVersion"
    },
    {
     "sourceId": 218071882,
     "sourceType": "kernelVersion"
    },
    {
     "sourceId": 221653523,
     "sourceType": "kernelVersion"
    },
    {
     "sourceId": 221926106,
     "sourceType": "kernelVersion"
    }
   ],
   "dockerImageVersionId": 30840,
   "isGpuEnabled": true,
   "isInternetEnabled": true,
   "language": "python",
   "sourceType": "notebook"
  },
  "kernelspec": {
   "display_name": "Python 3",
   "language": "python",
   "name": "python3"
  },
  "language_info": {
   "codemirror_mode": {
    "name": "ipython",
    "version": 3
   },
   "file_extension": ".py",
   "mimetype": "text/x-python",
   "name": "python",
   "nbconvert_exporter": "python",
   "pygments_lexer": "ipython3",
   "version": "3.10.12"
  }
 },
 "nbformat": 4,
 "nbformat_minor": 4
}
